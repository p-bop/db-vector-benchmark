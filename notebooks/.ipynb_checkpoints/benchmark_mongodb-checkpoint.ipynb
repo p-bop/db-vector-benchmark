{
 "cells": [
  {
   "cell_type": "code",
   "execution_count": 8,
   "id": "163e51ee-2d72-4d99-8e16-6bcaa8f8c217",
   "metadata": {
    "tags": []
   },
   "outputs": [],
   "source": [
    "import numpy as np\n",
    "import time\n",
    "from tqdm import tqdm\n",
    "from pymongo import MongoClient"
   ]
  },
  {
   "cell_type": "code",
   "execution_count": 9,
   "id": "891f3314-cdcf-48d6-96b4-fad1f5becc09",
   "metadata": {
    "tags": []
   },
   "outputs": [
    {
     "name": "stdout",
     "output_type": "stream",
     "text": [
      "✅ Connected to MongoDB.\n"
     ]
    }
   ],
   "source": [
    "client = MongoClient(\"mongodb://localhost:27017\")\n",
    "db = client[\"benchmark\"]\n",
    "collection = db[\"glove_vectors\"]\n",
    "\n",
    "print(\"✅ Connected to MongoDB.\")"
   ]
  },
  {
   "cell_type": "code",
   "execution_count": 10,
   "id": "9d0abc98-55a9-4598-bd74-edc6defaed34",
   "metadata": {
    "tags": []
   },
   "outputs": [
    {
     "name": "stdout",
     "output_type": "stream",
     "text": [
      "✅ Loaded 100 queries.\n"
     ]
    }
   ],
   "source": [
    "def load_queries(path, num=100):\n",
    "    queries = []\n",
    "    with open(path, 'r') as f:\n",
    "        for i, line in enumerate(f):\n",
    "            if i >= num:\n",
    "                break\n",
    "            parts = line.strip().split()\n",
    "            word, vec = parts[0], list(map(float, parts[1:]))\n",
    "            queries.append((word, np.array(vec)))\n",
    "    return queries\n",
    "\n",
    "queries = load_queries(\"/Users/palakarora/Downloads/Palak_Thesis/datasets/glove/glove.6B.100d.txt\", num=100)\n",
    "print(f\"✅ Loaded {len(queries)} queries.\")"
   ]
  },
  {
   "cell_type": "code",
   "execution_count": 11,
   "id": "e7b8771f-ac11-4d78-ad16-5237e71ae941",
   "metadata": {
    "tags": []
   },
   "outputs": [],
   "source": [
    "def cosine_similarity(vec1, vec2):\n",
    "    return np.dot(vec1, vec2) / (np.linalg.norm(vec1) * np.linalg.norm(vec2))\n"
   ]
  },
  {
   "cell_type": "code",
   "execution_count": null,
   "id": "106d5eca-ea9d-4e20-ad53-1296939253fa",
   "metadata": {
    "tags": []
   },
   "outputs": [],
   "source": [
    "import numpy as np\n",
    "import pymongo\n",
    "from tqdm import tqdm\n",
    "from sklearn.metrics.pairwise import cosine_similarity\n",
    "import time\n",
    "\n",
    "client = pymongo.MongoClient(\"mongodb://localhost:27017/\")\n",
    "db = client[\"benchmark\"]\n",
    "collection = db[\"glove_vectors\"]\n",
    "\n",
    "cursor = collection.find({}, {\"_id\": 0, \"word\": 1, \"vector\": 1})\n",
    "docs = list(cursor)\n",
    "words = [doc[\"word\"] for doc in docs]\n",
    "vectors = np.array([doc[\"vector\"] for doc in docs])\n",
    "\n",
    "def load_queries(path, num=100):\n",
    "    queries = []\n",
    "    with open(path, \"r\") as f:\n",
    "        for i, line in enumerate(f):\n",
    "            if i >= num:\n",
    "                break\n",
    "            parts = line.strip().split()\n",
    "            word = parts[0]\n",
    "            vector = np.array([float(x) for x in parts[1:]])\n",
    "            queries.append((word, vector))\n",
    "    return queries\n",
    "\n",
    "queries = load_queries(\"datasets/glove/glove.6B.100d.txt\")\n",
    "\n",
    "timings = []\n",
    "top1_hits = 0\n",
    "\n",
    "for word, query_vec in tqdm(queries, desc=\"🔍 Running queries\"):\n",
    "    start = time.time()\n",
    "    sims = cosine_similarity([query_vec], vectors)[0]\n",
    "    top_idx = np.argmax(sims)\n",
    "    top_word = words[top_idx]\n",
    "    timings.append(time.time() - start)\n",
    "    if top_word == word:\n",
    "        top1_hits += 1\n",
    "\n",
    "average_time = np.mean(timings)\n",
    "throughput = len(timings) / sum(timings)\n",
    "recall_at_1 = top1_hits / len(queries)\n",
    "\n",
    "print(\"\\n📊 MongoDB Brute-Force Results:\")\n",
    "print(f\"Average Query Time: {average_time:.4f} seconds\")\n",
    "print(f\"Throughput: {throughput:.2f} queries/sec\")\n",
    "print(f\"Recall@1: {recall_at_1:.2%}\")\n"
   ]
  },
  {
   "cell_type": "code",
   "execution_count": null,
   "id": "109a474b-701b-479a-b9a6-3e611bdce239",
   "metadata": {},
   "outputs": [],
   "source": []
  }
 ],
 "metadata": {
  "kernelspec": {
   "display_name": "Python 3 (ipykernel)",
   "language": "python",
   "name": "python3"
  },
  "language_info": {
   "codemirror_mode": {
    "name": "ipython",
    "version": 3
   },
   "file_extension": ".py",
   "mimetype": "text/x-python",
   "name": "python",
   "nbconvert_exporter": "python",
   "pygments_lexer": "ipython3",
   "version": "3.11.4"
  }
 },
 "nbformat": 4,
 "nbformat_minor": 5
}
